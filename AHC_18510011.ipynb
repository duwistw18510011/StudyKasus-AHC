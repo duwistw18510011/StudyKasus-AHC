{
  "nbformat": 4,
  "nbformat_minor": 0,
  "metadata": {
    "colab": {
      "name": "AHC.ipynb",
      "provenance": [],
      "collapsed_sections": []
    },
    "kernelspec": {
      "name": "python3",
      "display_name": "Python 3"
    },
    "language_info": {
      "name": "python"
    }
  },
  "cells": [
    {
      "cell_type": "markdown",
      "metadata": {
        "id": "8Jtdh-JxSiY1"
      },
      "source": [
        "Studi Kasus 1"
      ]
    },
    {
      "cell_type": "code",
      "metadata": {
        "id": "siJhkzK1OXcv"
      },
      "source": [
        "#import library\n",
        "from matplotlib import pyplot as plt\n",
        "from scipy.cluster.hierarchy import dendrogram, linkage\n",
        "import numpy as np"
      ],
      "execution_count": 1,
      "outputs": []
    },
    {
      "cell_type": "code",
      "metadata": {
        "id": "daIz9B7JPJ0w"
      },
      "source": [
        "#data array 2D\n",
        "x = np.array([[1,2],\n",
        "              [2.5,4.5],\n",
        "              [2,2],\n",
        "              [4,1.5],\n",
        "              [4,2.5]])"
      ],
      "execution_count": 4,
      "outputs": []
    },
    {
      "cell_type": "code",
      "metadata": {
        "colab": {
          "base_uri": "https://localhost:8080/"
        },
        "id": "Egj31PrnQbkn",
        "outputId": "567a51c5-72df-46ed-eece-24083f81a2aa"
      },
      "source": [
        "x"
      ],
      "execution_count": 5,
      "outputs": [
        {
          "output_type": "execute_result",
          "data": {
            "text/plain": [
              "array([[1. , 2. ],\n",
              "       [2.5, 4.5],\n",
              "       [2. , 2. ],\n",
              "       [4. , 1.5],\n",
              "       [4. , 2.5]])"
            ]
          },
          "metadata": {
            "tags": []
          },
          "execution_count": 5
        }
      ]
    },
    {
      "cell_type": "code",
      "metadata": {
        "colab": {
          "base_uri": "https://localhost:8080/"
        },
        "id": "rH0nD4_zQtDi",
        "outputId": "7badec95-1a78-48fc-d9c0-9831fe8613f2"
      },
      "source": [
        "z = linkage(x,method='complete', metric='euclidean')\n",
        "z"
      ],
      "execution_count": 8,
      "outputs": [
        {
          "output_type": "execute_result",
          "data": {
            "text/plain": [
              "array([[0.        , 2.        , 1.        , 2.        ],\n",
              "       [3.        , 4.        , 1.        , 2.        ],\n",
              "       [1.        , 5.        , 2.91547595, 3.        ],\n",
              "       [6.        , 7.        , 3.35410197, 5.        ]])"
            ]
          },
          "metadata": {
            "tags": []
          },
          "execution_count": 8
        }
      ]
    },
    {
      "cell_type": "code",
      "metadata": {
        "colab": {
          "base_uri": "https://localhost:8080/",
          "height": 516
        },
        "id": "1EnnyDlsQ88B",
        "outputId": "4afda039-4e6a-4c98-c25a-e02da7068001"
      },
      "source": [
        "#plot dendogram\n",
        "plt.figure(figsize=(15,8))\n",
        "plt.title('Dendogram Hierarchical Clustering')\n",
        "plt.xlabel('data')\n",
        "plt.ylabel('jarak')\n",
        "dendrogram(z)\n",
        "plt.show()"
      ],
      "execution_count": 15,
      "outputs": [
        {
          "output_type": "display_data",
          "data": {
            "image/png": "[encoded data removed]",
            "text/plain": [
              "<Figure size 1080x576 with 1 Axes>"
            ]
          },
          "metadata": {
            "tags": [],
            "needs_background": "light"
          }
        }
      ]
    },
    {
      "cell_type": "code",
      "metadata": {
        "id": "e6EljM85Ry5S"
      },
      "source": [
        ""
      ],
      "execution_count": null,
      "outputs": []
    },
    {
      "cell_type": "markdown",
      "metadata": {
        "id": "-5AZZuAUSoBH"
      },
      "source": [
        "Studi Kasus 2"
      ]
    },
    {
      "cell_type": "code",
      "metadata": {
        "id": "SbrcgrJbSrDE"
      },
      "source": [
        "#import library\n",
        "from matplotlib import pyplot as plot\n",
        "from scipy.cluster.hierarchy import dendrogram, linkage\n",
        "import numpy as np\n",
        "import pandas as pd"
      ],
      "execution_count": 11,
      "outputs": []
    },
    {
      "cell_type": "code",
      "metadata": {
        "colab": {
          "base_uri": "https://localhost:8080/",
          "height": 204
        },
        "id": "s8gMghLKS9IL",
        "outputId": "60855a9f-079e-463b-d39a-047cd10c7ec8"
      },
      "source": [
        "data = pd.read_excel(\"data.xlsx\")\n",
        "data"
      ],
      "execution_count": 12,
      "outputs": [
        {
          "output_type": "execute_result",
          "data": {
            "text/html": [
              "<div>\n",
              "<style scoped>\n",
              "    .dataframe tbody tr th:only-of-type {\n",
              "        vertical-align: middle;\n",
              "    }\n",
              "\n",
              "    .dataframe tbody tr th {\n",
              "        vertical-align: top;\n",
              "    }\n",
              "\n",
              "    .dataframe thead th {\n",
              "        text-align: right;\n",
              "    }\n",
              "</style>\n",
              "<table border=\"1\" class=\"dataframe\">\n",
              "  <thead>\n",
              "    <tr style=\"text-align: right;\">\n",
              "      <th></th>\n",
              "      <th>DTW</th>\n",
              "      <th>DTT</th>\n",
              "      <th>DMT</th>\n",
              "      <th>DDB</th>\n",
              "    </tr>\n",
              "  </thead>\n",
              "  <tbody>\n",
              "    <tr>\n",
              "      <th>0</th>\n",
              "      <td>2</td>\n",
              "      <td>4</td>\n",
              "      <td>4</td>\n",
              "      <td>3</td>\n",
              "    </tr>\n",
              "    <tr>\n",
              "      <th>1</th>\n",
              "      <td>3</td>\n",
              "      <td>4</td>\n",
              "      <td>3</td>\n",
              "      <td>5</td>\n",
              "    </tr>\n",
              "    <tr>\n",
              "      <th>2</th>\n",
              "      <td>4</td>\n",
              "      <td>3</td>\n",
              "      <td>2</td>\n",
              "      <td>5</td>\n",
              "    </tr>\n",
              "    <tr>\n",
              "      <th>3</th>\n",
              "      <td>1</td>\n",
              "      <td>5</td>\n",
              "      <td>4</td>\n",
              "      <td>2</td>\n",
              "    </tr>\n",
              "    <tr>\n",
              "      <th>4</th>\n",
              "      <td>3</td>\n",
              "      <td>2</td>\n",
              "      <td>1</td>\n",
              "      <td>3</td>\n",
              "    </tr>\n",
              "  </tbody>\n",
              "</table>\n",
              "</div>"
            ],
            "text/plain": [
              "   DTW  DTT  DMT  DDB\n",
              "0    2    4    4    3\n",
              "1    3    4    3    5\n",
              "2    4    3    2    5\n",
              "3    1    5    4    2\n",
              "4    3    2    1    3"
            ]
          },
          "metadata": {
            "tags": []
          },
          "execution_count": 12
        }
      ]
    },
    {
      "cell_type": "code",
      "metadata": {
        "colab": {
          "base_uri": "https://localhost:8080/"
        },
        "id": "9gW_9JG3Vdj6",
        "outputId": "4d1607ba-625f-4a94-89ea-152d0df34535"
      },
      "source": [
        "x = np.asarray(data)\n",
        "x"
      ],
      "execution_count": 13,
      "outputs": [
        {
          "output_type": "execute_result",
          "data": {
            "text/plain": [
              "array([[2, 4, 4, 3],\n",
              "       [3, 4, 3, 5],\n",
              "       [4, 3, 2, 5],\n",
              "       [1, 5, 4, 2],\n",
              "       [3, 2, 1, 3]])"
            ]
          },
          "metadata": {
            "tags": []
          },
          "execution_count": 13
        }
      ]
    },
    {
      "cell_type": "code",
      "metadata": {
        "colab": {
          "base_uri": "https://localhost:8080/"
        },
        "id": "zcCz7pRBVlo8",
        "outputId": "87c0823b-c3bb-4984-a089-9fc907c8dee2"
      },
      "source": [
        "z = linkage(x, metric='euclidean')\n",
        "print(z)"
      ],
      "execution_count": 16,
      "outputs": [
        {
          "output_type": "stream",
          "text": [
            "[[0.         3.         1.73205081 2.        ]\n",
            " [1.         2.         1.73205081 2.        ]\n",
            " [5.         6.         2.44948974 4.        ]\n",
            " [4.         7.         2.64575131 5.        ]]\n"
          ],
          "name": "stdout"
        }
      ]
    },
    {
      "cell_type": "code",
      "metadata": {
        "colab": {
          "base_uri": "https://localhost:8080/",
          "height": 516
        },
        "id": "SVqn17zcWnUH",
        "outputId": "4db0533e-1d40-4bd8-dd6a-4b70ebda0cd1"
      },
      "source": [
        "#plot dendogram\n",
        "plt.figure(figsize=(10,8))\n",
        "plt.title('Dendogram Hierarchical Clustering')\n",
        "plt.xlabel('data')\n",
        "plt.ylabel('jarak')\n",
        "dendrogram(z)\n",
        "plt.show()"
      ],
      "execution_count": 18,
      "outputs": [
        {
          "output_type": "display_data",
          "data": {
            "image/png": "[encoded data removed]",
            "text/plain": [
              "<Figure size 720x576 with 1 Axes>"
            ]
          },
          "metadata": {
            "tags": [],
            "needs_background": "light"
          }
        }
      ]
    },
    {
      "cell_type": "code",
      "metadata": {
        "id": "ZyoNO4qCXBxg"
      },
      "source": [
        ""
      ],
      "execution_count": null,
      "outputs": []
    }
  ]
}